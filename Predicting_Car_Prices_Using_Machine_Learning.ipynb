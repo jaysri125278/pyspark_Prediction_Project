{
  "nbformat": 4,
  "nbformat_minor": 0,
  "metadata": {
    "colab": {
      "provenance": []
    },
    "kernelspec": {
      "name": "python3",
      "display_name": "Python 3"
    },
    "language_info": {
      "name": "python"
    }
  },
  "cells": [
    {
      "cell_type": "code",
      "source": [
        "import pandas as pd\n",
        "import matplotlib.pyplot as plt\n",
        "import seaborn as sns\n",
        "from pyspark.sql import SparkSession\n",
        "from pyspark.sql.functions import col, year, current_date, log\n",
        "from pyspark.ml.feature import StringIndexer, OneHotEncoder, VectorAssembler, StandardScaler\n",
        "from pyspark.ml import Pipeline\n",
        "from pyspark.ml.regression import RandomForestRegressor\n",
        "from pyspark.ml.tuning import ParamGridBuilder, CrossValidator\n",
        "from pyspark.ml.evaluation import RegressionEvaluator\n",
        "import pickle"
      ],
      "metadata": {
        "id": "AzYISaDx7MVE"
      },
      "execution_count": 119,
      "outputs": []
    },
    {
      "cell_type": "code",
      "source": [
        "spark = SparkSession.builder.appName('CarPricePrediction').getOrCreate()"
      ],
      "metadata": {
        "id": "qEFdH6Tv7OO2"
      },
      "execution_count": 120,
      "outputs": []
    },
    {
      "cell_type": "code",
      "source": [
        "data = spark.read.csv('/content/car data.csv', header=True, inferSchema=True)\n",
        "data.show(5)"
      ],
      "metadata": {
        "colab": {
          "base_uri": "https://localhost:8080/"
        },
        "id": "gx5JqaO87QKk",
        "outputId": "3834c08c-b737-4ba2-f742-c32e24a7f1c8"
      },
      "execution_count": 121,
      "outputs": [
        {
          "output_type": "stream",
          "name": "stdout",
          "text": [
            "+--------+----+-------------+-------------+----------+---------+-----------+------------+-----+\n",
            "|Car_Name|Year|Selling_Price|Present_Price|Kms_Driven|Fuel_Type|Seller_Type|Transmission|Owner|\n",
            "+--------+----+-------------+-------------+----------+---------+-----------+------------+-----+\n",
            "|    ritz|2014|         3.35|         5.59|     27000|   Petrol|     Dealer|      Manual|    0|\n",
            "|     sx4|2013|         4.75|         9.54|     43000|   Diesel|     Dealer|      Manual|    0|\n",
            "|    ciaz|2017|         7.25|         9.85|      6900|   Petrol|     Dealer|      Manual|    0|\n",
            "| wagon r|2011|         2.85|         4.15|      5200|   Petrol|     Dealer|      Manual|    0|\n",
            "|   swift|2014|          4.6|         6.87|     42450|   Diesel|     Dealer|      Manual|    0|\n",
            "+--------+----+-------------+-------------+----------+---------+-----------+------------+-----+\n",
            "only showing top 5 rows\n",
            "\n"
          ]
        }
      ]
    },
    {
      "cell_type": "code",
      "source": [
        "data.printSchema()"
      ],
      "metadata": {
        "colab": {
          "base_uri": "https://localhost:8080/"
        },
        "id": "tOYawifl7fd-",
        "outputId": "5fe344e0-a933-4cf5-e2cb-6600659ed493"
      },
      "execution_count": 122,
      "outputs": [
        {
          "output_type": "stream",
          "name": "stdout",
          "text": [
            "root\n",
            " |-- Car_Name: string (nullable = true)\n",
            " |-- Year: integer (nullable = true)\n",
            " |-- Selling_Price: double (nullable = true)\n",
            " |-- Present_Price: double (nullable = true)\n",
            " |-- Kms_Driven: integer (nullable = true)\n",
            " |-- Fuel_Type: string (nullable = true)\n",
            " |-- Seller_Type: string (nullable = true)\n",
            " |-- Transmission: string (nullable = true)\n",
            " |-- Owner: integer (nullable = true)\n",
            "\n"
          ]
        }
      ]
    },
    {
      "cell_type": "code",
      "source": [
        "data.describe().show()"
      ],
      "metadata": {
        "colab": {
          "base_uri": "https://localhost:8080/"
        },
        "id": "RFEXDaUkhrM3",
        "outputId": "100fd23f-f877-4230-e2a1-209ea66d24ab"
      },
      "execution_count": 123,
      "outputs": [
        {
          "output_type": "stream",
          "name": "stdout",
          "text": [
            "+-------+--------+------------------+-----------------+-----------------+-----------------+---------+-----------+------------+-------------------+\n",
            "|summary|Car_Name|              Year|    Selling_Price|    Present_Price|       Kms_Driven|Fuel_Type|Seller_Type|Transmission|              Owner|\n",
            "+-------+--------+------------------+-----------------+-----------------+-----------------+---------+-----------+------------+-------------------+\n",
            "|  count|     301|               301|              301|              301|              301|      301|        301|         301|                301|\n",
            "|   mean|   800.0|2013.6279069767443|4.661295681063127|7.628471760797344|36947.20598006644|     NULL|       NULL|        NULL|0.04318936877076412|\n",
            "| stddev|    NULL|2.8915541273367253|5.082811556177805|8.644115402015789|38886.88388206789|     NULL|       NULL|        NULL| 0.2479148926949198|\n",
            "|    min|     800|              2003|              0.1|             0.32|              500|      CNG|     Dealer|   Automatic|                  0|\n",
            "|    max|   xcent|              2018|             35.0|             92.6|           500000|   Petrol| Individual|      Manual|                  3|\n",
            "+-------+--------+------------------+-----------------+-----------------+-----------------+---------+-----------+------------+-------------------+\n",
            "\n"
          ]
        }
      ]
    },
    {
      "cell_type": "markdown",
      "source": [
        "# EDA"
      ],
      "metadata": {
        "id": "DivvCntjd_0w"
      }
    },
    {
      "cell_type": "code",
      "source": [
        "unique_seller_types = data.select(\"Seller_Type\").distinct().collect()\n",
        "[row[\"Seller_Type\"] for row in unique_seller_types]"
      ],
      "metadata": {
        "colab": {
          "base_uri": "https://localhost:8080/"
        },
        "id": "hnP7YluueRZZ",
        "outputId": "76f57a51-7238-4afd-ff4c-2d29789300db"
      },
      "execution_count": 124,
      "outputs": [
        {
          "output_type": "execute_result",
          "data": {
            "text/plain": [
              "['Individual', 'Dealer']"
            ]
          },
          "metadata": {},
          "execution_count": 124
        }
      ]
    },
    {
      "cell_type": "code",
      "source": [
        "unique_transmission = data.select(\"Transmission\").distinct().collect()\n",
        "[row[\"Transmission\"] for row in unique_transmission]"
      ],
      "metadata": {
        "colab": {
          "base_uri": "https://localhost:8080/"
        },
        "id": "U6hJn_SsfGOk",
        "outputId": "c94f1331-cfe4-4eeb-a4fc-b7ef8f7ffbfd"
      },
      "execution_count": 125,
      "outputs": [
        {
          "output_type": "execute_result",
          "data": {
            "text/plain": [
              "['Automatic', 'Manual']"
            ]
          },
          "metadata": {},
          "execution_count": 125
        }
      ]
    },
    {
      "cell_type": "code",
      "source": [
        "unique_owner = data.select(\"Owner\").distinct().collect()\n",
        "[row[\"Owner\"] for row in unique_owner]"
      ],
      "metadata": {
        "colab": {
          "base_uri": "https://localhost:8080/"
        },
        "id": "b-gJ4YCCfMHk",
        "outputId": "9dc6276b-6b54-4962-ff91-428d5d724e91"
      },
      "execution_count": 126,
      "outputs": [
        {
          "output_type": "execute_result",
          "data": {
            "text/plain": [
              "[1, 3, 0]"
            ]
          },
          "metadata": {},
          "execution_count": 126
        }
      ]
    },
    {
      "cell_type": "code",
      "source": [
        "unique_fuel_type = data.select(\"Fuel_Type\").distinct().collect()\n",
        "[row[\"Fuel_Type\"] for row in unique_fuel_type]"
      ],
      "metadata": {
        "colab": {
          "base_uri": "https://localhost:8080/"
        },
        "id": "WPA2j4wZfQ9M",
        "outputId": "2a1ac249-d8ac-40d4-b7f6-560539301d4b"
      },
      "execution_count": 127,
      "outputs": [
        {
          "output_type": "execute_result",
          "data": {
            "text/plain": [
              "['Diesel', 'CNG', 'Petrol']"
            ]
          },
          "metadata": {},
          "execution_count": 127
        }
      ]
    },
    {
      "cell_type": "code",
      "source": [
        "pandas_data = data.toPandas()"
      ],
      "metadata": {
        "id": "QZeoGyAU7wqA"
      },
      "execution_count": 128,
      "outputs": []
    },
    {
      "cell_type": "code",
      "source": [
        "plt.figure(figsize=(10, 6))\n",
        "sns.histplot(pandas_data['Selling_Price'], kde=True, bins=30)\n",
        "plt.title('Distribution of Selling Price')\n",
        "plt.xlabel('Selling Price')\n",
        "plt.ylabel('Frequency')\n",
        "plt.show()"
      ],
      "metadata": {
        "colab": {
          "base_uri": "https://localhost:8080/",
          "height": 541
        },
        "id": "AnMJKKjF7zMv",
        "outputId": "30457cd3-5b60-4ab8-b27f-50278a285ce4"
      },
      "execution_count": 129,
      "outputs": [
        {
          "output_type": "display_data",
          "data": {
            "text/plain": [
              "<Figure size 1000x600 with 1 Axes>"
            ],
            "image/png": "[encoded data removed]"
          },
          "metadata": {}
        }
      ]
    },
    {
      "cell_type": "code",
      "source": [
        "plt.figure(figsize=(10, 6))\n",
        "sns.histplot(pandas_data['Kms_Driven'], kde=True, bins=30)\n",
        "plt.title('Distribution of Kms Driven')\n",
        "plt.xlabel('Kms Driven')\n",
        "plt.ylabel('Frequency')\n",
        "plt.show()"
      ],
      "metadata": {
        "colab": {
          "base_uri": "https://localhost:8080/",
          "height": 547
        },
        "id": "0dbT7bfM72Jd",
        "outputId": "716ea390-1939-4559-8fe8-74b67b4e6f50"
      },
      "execution_count": 130,
      "outputs": [
        {
          "output_type": "display_data",
          "data": {
            "text/plain": [
              "<Figure size 1000x600 with 1 Axes>"
            ],
            "image/png": "[encoded data removed]"
          },
          "metadata": {}
        }
      ]
    },
    {
      "cell_type": "markdown",
      "source": [
        "# Feature Engineering"
      ],
      "metadata": {
        "id": "xStpUEIp8Cs9"
      }
    },
    {
      "cell_type": "code",
      "source": [
        "data = data.withColumn('current_year', year(current_date()))"
      ],
      "metadata": {
        "id": "5Sj_yPNd7hZx"
      },
      "execution_count": 131,
      "outputs": []
    },
    {
      "cell_type": "code",
      "source": [
        "data = data.withColumn('No_of_years', col('current_year') - col('Year'))"
      ],
      "metadata": {
        "id": "D_LnSo2l8Uzs"
      },
      "execution_count": 132,
      "outputs": []
    },
    {
      "cell_type": "code",
      "source": [
        "data = data.drop('Year', 'current_year')"
      ],
      "metadata": {
        "id": "zrv1AbA18Zny"
      },
      "execution_count": 133,
      "outputs": []
    },
    {
      "cell_type": "code",
      "source": [
        "indexer = StringIndexer(inputCols=['Fuel_Type', 'Seller_Type', 'Transmission', 'Owner'],\n",
        "                        outputCols=['Fuel_Type_Idx', 'Seller_Type_Idx', 'Transmission_Idx', 'Owner_Idx'],\n",
        "                        handleInvalid='skip')"
      ],
      "metadata": {
        "id": "WIy5wibS8m9k"
      },
      "execution_count": 134,
      "outputs": []
    },
    {
      "cell_type": "code",
      "source": [
        "encoder = OneHotEncoder(inputCols=['Fuel_Type_Idx', 'Seller_Type_Idx', 'Transmission_Idx', 'Owner_Idx'],\n",
        "                        outputCols=['Fuel_Type_OneHot', 'Seller_Type_OneHot', 'Transmission_OneHot', 'Owner_OneHot'])"
      ],
      "metadata": {
        "id": "Y8c_PRWM8y8A"
      },
      "execution_count": 135,
      "outputs": []
    },
    {
      "cell_type": "code",
      "source": [
        "data = data.withColumn('Log_Price', log(col('Selling_Price')))"
      ],
      "metadata": {
        "id": "H9Hz6Vpa809R"
      },
      "execution_count": 136,
      "outputs": []
    },
    {
      "cell_type": "code",
      "source": [
        "assembler = VectorAssembler(inputCols=['No_of_years', 'Present_Price', 'Kms_Driven',\n",
        "                                       'Fuel_Type_OneHot', 'Seller_Type_OneHot',\n",
        "                                       'Transmission_OneHot', 'Owner_OneHot', 'Log_Price'],\n",
        "                            outputCol='features')"
      ],
      "metadata": {
        "id": "taUkV3jy85-H"
      },
      "execution_count": 137,
      "outputs": []
    },
    {
      "cell_type": "code",
      "source": [
        "scaler = StandardScaler(inputCol='features', outputCol='scaled_features')"
      ],
      "metadata": {
        "id": "kZV2nCeU9ACk"
      },
      "execution_count": 138,
      "outputs": []
    },
    {
      "cell_type": "markdown",
      "source": [
        "# Model Training"
      ],
      "metadata": {
        "id": "OsKiuMQ5iA8B"
      }
    },
    {
      "cell_type": "code",
      "source": [
        "rf = RandomForestRegressor(featuresCol='scaled_features', labelCol='Log_Price')"
      ],
      "metadata": {
        "id": "Q8rX928s9Dip"
      },
      "execution_count": 139,
      "outputs": []
    },
    {
      "cell_type": "code",
      "source": [
        "pipeline = Pipeline(stages=[indexer, encoder, assembler, scaler, rf])"
      ],
      "metadata": {
        "id": "6kIrU-Mn9F9V"
      },
      "execution_count": 140,
      "outputs": []
    },
    {
      "cell_type": "code",
      "source": [
        "train_data, test_data = data.randomSplit([0.8, 0.2], seed=1234)"
      ],
      "metadata": {
        "id": "_nJkqEUx9Ib9"
      },
      "execution_count": 141,
      "outputs": []
    },
    {
      "cell_type": "code",
      "source": [
        "param_grid = (ParamGridBuilder()\n",
        "              .addGrid(rf.numTrees, [50, 100, 200])\n",
        "              .addGrid(rf.maxDepth, [5, 10, 15])\n",
        "              .addGrid(rf.minInstancesPerNode, [1, 5, 10])\n",
        "              .addGrid(rf.maxBins, [32, 64])\n",
        "              .build())"
      ],
      "metadata": {
        "id": "nR6YIDTC9LT0"
      },
      "execution_count": 142,
      "outputs": []
    },
    {
      "cell_type": "code",
      "source": [
        "evaluator = RegressionEvaluator(labelCol='Log_Price', predictionCol='prediction', metricName='rmse')\n",
        "crossval = CrossValidator(estimator=pipeline,\n",
        "                          estimatorParamMaps=param_grid,\n",
        "                          evaluator=evaluator,\n",
        "                          numFolds=5)"
      ],
      "metadata": {
        "id": "WH7M8wHW9OL-"
      },
      "execution_count": 143,
      "outputs": []
    },
    {
      "cell_type": "code",
      "source": [
        "cv_model = crossval.fit(train_data)"
      ],
      "metadata": {
        "id": "Lr4wL5W69QWw"
      },
      "execution_count": 144,
      "outputs": []
    },
    {
      "cell_type": "code",
      "source": [
        "rf_model = cv_model.bestModel.stages[4]\n",
        "feature_importances = rf_model.featureImportances"
      ],
      "metadata": {
        "id": "MbURnnbHjD2C"
      },
      "execution_count": 145,
      "outputs": []
    },
    {
      "cell_type": "code",
      "source": [
        "features = ['No_of_years', 'Present_Price', 'Kms_Driven', 'Fuel_Type_OneHot', 'Seller_Type_OneHot',\n",
        "            'Transmission_OneHot', 'Owner_OneHot', 'Log_Price']\n",
        "for feature, importance in zip(features, feature_importances):\n",
        "    print(f\"Feature: {feature}, Importance: {importance}\")"
      ],
      "metadata": {
        "colab": {
          "base_uri": "https://localhost:8080/"
        },
        "id": "TDchQiSSjbnD",
        "outputId": "858513eb-64c3-4bd6-c163-ee5446bd0296"
      },
      "execution_count": 146,
      "outputs": [
        {
          "output_type": "stream",
          "name": "stdout",
          "text": [
            "Feature: No_of_years, Importance: 0.02934947292442731\n",
            "Feature: Present_Price, Importance: 0.283451529669967\n",
            "Feature: Kms_Driven, Importance: 0.018295697299723135\n",
            "Feature: Fuel_Type_OneHot, Importance: 0.03563160738645692\n",
            "Feature: Seller_Type_OneHot, Importance: 0.035888699484389476\n",
            "Feature: Transmission_OneHot, Importance: 0.1718606055393542\n",
            "Feature: Owner_OneHot, Importance: 0.012033994531026588\n",
            "Feature: Log_Price, Importance: 0.00174094675058784\n"
          ]
        }
      ]
    },
    {
      "cell_type": "markdown",
      "source": [
        "# Model Evaluation"
      ],
      "metadata": {
        "id": "spQeXhLBiExa"
      }
    },
    {
      "cell_type": "code",
      "source": [
        "predictions = cv_model.transform(test_data)"
      ],
      "metadata": {
        "id": "LIAAMgcp9STK"
      },
      "execution_count": 147,
      "outputs": []
    },
    {
      "cell_type": "code",
      "source": [
        "rmse_evaluator = RegressionEvaluator(labelCol=\"Log_Price\", predictionCol=\"prediction\", metricName=\"rmse\")\n",
        "mae_evaluator = RegressionEvaluator(labelCol=\"Log_Price\", predictionCol=\"prediction\", metricName=\"mae\")\n",
        "r2_evaluator = RegressionEvaluator(labelCol=\"Log_Price\", predictionCol=\"prediction\", metricName=\"r2\")"
      ],
      "metadata": {
        "id": "UutnaqiHopD2"
      },
      "execution_count": 148,
      "outputs": []
    },
    {
      "cell_type": "code",
      "source": [
        "rmse = rmse_evaluator.evaluate(predictions)\n",
        "mae = mae_evaluator.evaluate(predictions)\n",
        "r2 = r2_evaluator.evaluate(predictions)"
      ],
      "metadata": {
        "id": "BScvq1rkoxKL"
      },
      "execution_count": 149,
      "outputs": []
    },
    {
      "cell_type": "code",
      "source": [
        "print(f\"Root Mean Squared Error (RMSE): {rmse}\")\n",
        "print(f\"Mean Absolute Error (MAE): {mae}\")\n",
        "print(f\"R-squared (R2): {r2}\")"
      ],
      "metadata": {
        "colab": {
          "base_uri": "https://localhost:8080/"
        },
        "id": "vM8LzLUvo2HN",
        "outputId": "67bccf9b-2614-4505-a5f6-008314832650"
      },
      "execution_count": 150,
      "outputs": [
        {
          "output_type": "stream",
          "name": "stdout",
          "text": [
            "Root Mean Squared Error (RMSE): 0.09485289804033127\n",
            "Mean Absolute Error (MAE): 0.062128754385543786\n",
            "R-squared (R2): 0.9946722102341798\n"
          ]
        }
      ]
    },
    {
      "cell_type": "code",
      "source": [
        "rmse = evaluator.evaluate(predictions)\n",
        "print(f\"Root Mean Squared Error (RMSE): {rmse}\")"
      ],
      "metadata": {
        "colab": {
          "base_uri": "https://localhost:8080/"
        },
        "id": "w988ST9R9Vtp",
        "outputId": "cba9303a-e606-4a8e-ab29-fa0897273266"
      },
      "execution_count": 151,
      "outputs": [
        {
          "output_type": "stream",
          "name": "stdout",
          "text": [
            "Root Mean Squared Error (RMSE): 0.09485289804033127\n"
          ]
        }
      ]
    },
    {
      "cell_type": "code",
      "source": [
        "predictions.select('Selling_Price', 'prediction').show(5)"
      ],
      "metadata": {
        "colab": {
          "base_uri": "https://localhost:8080/"
        },
        "id": "XmNMioye9bMV",
        "outputId": "8699cdc7-c160-40a0-a40a-009724c39da1"
      },
      "execution_count": 152,
      "outputs": [
        {
          "output_type": "stream",
          "name": "stdout",
          "text": [
            "+-------------+-------------------+\n",
            "|Selling_Price|         prediction|\n",
            "+-------------+-------------------+\n",
            "|         0.17|-1.7943046760260402|\n",
            "|         0.18| -1.272714662539506|\n",
            "|         0.25|-1.4261195501769175|\n",
            "|         0.52|-0.8192739304654136|\n",
            "|         0.45|-0.7366702099078541|\n",
            "+-------------+-------------------+\n",
            "only showing top 5 rows\n",
            "\n"
          ]
        }
      ]
    },
    {
      "cell_type": "code",
      "source": [
        "spark.stop()"
      ],
      "metadata": {
        "id": "DO3v9FGEu_iu"
      },
      "execution_count": 154,
      "outputs": []
    }
  ]
}